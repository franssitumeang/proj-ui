{
 "cells": [
  {
   "cell_type": "code",
   "execution_count": 1,
   "id": "351295eb",
   "metadata": {},
   "outputs": [],
   "source": [
    "def extract_vertical_line_positions(step_data_dict):\n",
    "    \"\"\"\n",
    "    Extract x-coordinates where step transitions occur to create vertical lines\n",
    "    \n",
    "    Parameters:\n",
    "    -----------\n",
    "    step_data_dict : dict\n",
    "        Dictionary containing DataFrames with 'x' and 'y' columns for each direction\n",
    "        \n",
    "    Returns:\n",
    "    --------\n",
    "    list\n",
    "        List of x-coordinates where vertical lines should be placed\n",
    "    \"\"\"\n",
    "    # Use the first direction's data (since all directions should have same transition points)\n",
    "    first_direction = list(step_data_dict.keys())[0]\n",
    "    step_df = step_data_dict[first_direction]\n",
    "    \n",
    "    # Find x coordinates that appear more than once (transition points)\n",
    "    x_counts = step_df['x'].value_counts()\n",
    "    transition_x_coords = x_counts[x_counts > 1].index.tolist()\n",
    "    \n",
    "    # Remove the start point (x=0) if it exists, as we don't want a vertical line there\n",
    "    transition_x_coords = [x for x in transition_x_coords if x > 0]\n",
    "    \n",
    "    # Sort the coordinates\n",
    "    transition_x_coords.sort()\n",
    "    \n",
    "    return transition_x_coords\n",
    "\n",
    "# Test the function with your example data\n",
    "def test_extraction():\n",
    "    import pandas as pd\n",
    "    \n",
    "    # Recreate your example step data\n",
    "    step_data_dict = {\n",
    "        'arah A': pd.DataFrame({\n",
    "            'x': [0.000000, 30.584431, 30.584431, 73.772199, 73.772199, 112.006356, 112.006356, 149.300000],\n",
    "            'y': [30.499710, 30.499710, 30.817832, 30.817832, 17.894301, 17.894301, 41.630115, 41.630115]\n",
    "        }),\n",
    "        'arah B': pd.DataFrame({\n",
    "            'x': [0.000000, 30.584431, 30.584431, 73.772199, 73.772199, 112.006356, 112.006356, 149.300000],\n",
    "            'y': [29.423825, 29.423825, 30.623590, 30.623590, 19.916504, 19.916504, 31.530559, 31.530559]\n",
    "        })\n",
    "    }\n",
    "    \n",
    "    vertical_line_positions = extract_vertical_line_positions(step_data_dict)\n",
    "    print(\"Vertical line positions:\", vertical_line_positions)\n",
    "    # Expected output: [30.584431, 73.772199, 112.006356]"
   ]
  },
  {
   "cell_type": "code",
   "execution_count": 2,
   "id": "802c2ddb",
   "metadata": {},
   "outputs": [
    {
     "name": "stdout",
     "output_type": "stream",
     "text": [
      "Vertical line positions: [30.584431, 73.772199, 112.006356]\n"
     ]
    }
   ],
   "source": [
    "# Run test\n",
    "test_extraction()"
   ]
  },
  {
   "cell_type": "code",
   "execution_count": 3,
   "id": "1cf64b1d",
   "metadata": {},
   "outputs": [],
   "source": [
    "def extract_vertical_line_positions(step_data_dict):\n",
    "    \"\"\"\n",
    "    Extract x-coordinates where step transitions occur to create vertical lines\n",
    "    Includes start (0) and end points\n",
    "    \n",
    "    Parameters:\n",
    "    -----------\n",
    "    step_data_dict : dict\n",
    "        Dictionary containing DataFrames with 'x' and 'y' columns for each direction\n",
    "        \n",
    "    Returns:\n",
    "    --------\n",
    "    list\n",
    "        List of x-coordinates where vertical lines should be placed (including 0 and max)\n",
    "    \"\"\"\n",
    "    # Use the first direction's data (since all directions should have same transition points)\n",
    "    first_direction = list(step_data_dict.keys())[0]\n",
    "    step_df = step_data_dict[first_direction]\n",
    "    \n",
    "    # Find x coordinates that appear more than once (transition points)\n",
    "    x_counts = step_df['x'].value_counts()\n",
    "    transition_x_coords = x_counts[x_counts > 1].index.tolist()\n",
    "    \n",
    "    # Always include start point (0) and end point (max x value)\n",
    "    max_x = step_df['x'].max()\n",
    "    \n",
    "    # Create complete list: start + transitions + end\n",
    "    all_x_coords = [0] + [x for x in transition_x_coords if 0 < x < max_x] + [max_x]\n",
    "    \n",
    "    # Remove duplicates and sort\n",
    "    all_x_coords = sorted(list(set(all_x_coords)))\n",
    "    \n",
    "    return all_x_coords\n",
    "\n",
    "# Test the function with your example data\n",
    "def test_extraction():\n",
    "    import pandas as pd\n",
    "    \n",
    "    # Recreate your example step data\n",
    "    step_data_dict = {\n",
    "        'arah A': pd.DataFrame({\n",
    "            'x': [0.000000, 30.584431, 30.584431, 73.772199, 73.772199, 112.006356, 112.006356, 149.300000],\n",
    "            'y': [30.499710, 30.499710, 30.817832, 30.817832, 17.894301, 17.894301, 41.630115, 41.630115]\n",
    "        }),\n",
    "        'arah B': pd.DataFrame({\n",
    "            'x': [0.000000, 30.584431, 30.584431, 73.772199, 73.772199, 112.006356, 112.006356, 149.300000],\n",
    "            'y': [29.423825, 29.423825, 30.623590, 30.623590, 19.916504, 19.916504, 31.530559, 31.530559]\n",
    "        })\n",
    "    }\n",
    "    \n",
    "    vertical_line_positions = extract_vertical_line_positions(step_data_dict)\n",
    "    print(\"Vertical line positions:\", vertical_line_positions)\n",
    "    # Expected output: [0, 30.584431, 73.772199, 112.006356, 149.3]"
   ]
  },
  {
   "cell_type": "code",
   "execution_count": 4,
   "id": "97251a64",
   "metadata": {},
   "outputs": [
    {
     "name": "stdout",
     "output_type": "stream",
     "text": [
      "Vertical line positions: [0, 30.584431, 73.772199, 112.006356, np.float64(149.3)]\n"
     ]
    }
   ],
   "source": [
    "# Run test\n",
    "test_extraction()"
   ]
  },
  {
   "cell_type": "code",
   "execution_count": null,
   "id": "be206753",
   "metadata": {},
   "outputs": [],
   "source": []
  }
 ],
 "metadata": {
  "kernelspec": {
   "display_name": "streamlit-env",
   "language": "python",
   "name": "python3"
  },
  "language_info": {
   "codemirror_mode": {
    "name": "ipython",
    "version": 3
   },
   "file_extension": ".py",
   "mimetype": "text/x-python",
   "name": "python",
   "nbconvert_exporter": "python",
   "pygments_lexer": "ipython3",
   "version": "3.11.13"
  }
 },
 "nbformat": 4,
 "nbformat_minor": 5
}
